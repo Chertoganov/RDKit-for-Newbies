{
 "cells": [
  {
   "cell_type": "code",
   "execution_count": null,
   "metadata": {},
   "outputs": [],
   "source": []
  },
  {
   "cell_type": "markdown",
   "metadata": {},
   "source": [
    "# Read molecule"
   ]
  },
  {
   "cell_type": "code",
   "execution_count": 9,
   "metadata": {},
   "outputs": [],
   "source": [
    "from rdkit import Chem\n",
    "\n",
    "# load a mol from a SMILES string\n",
    "mol = Chem.MolFromSmiles('CC(N)C(=O)O')\n",
    "\n",
    "# load a large molecule database (size=440055 mols)\n",
    "suppl = Chem.SDMolSupplier('SureChEMBL_20160404_8.sdf')"
   ]
  },
  {
   "cell_type": "markdown",
   "metadata": {},
   "source": [
    "# Visualizing Molecules"
   ]
  },
  {
   "cell_type": "code",
   "execution_count": 6,
   "metadata": {},
   "outputs": [
    {
     "data": {
      "image/svg+xml": [
       "<svg baseProfile=\"full\" height=\"150px\" version=\"1.1\" viewBox=\"0 0 450 150\" width=\"450px\" xml:space=\"preserve\" xmlns=\"http://www.w3.org/2000/svg\" xmlns:rdkit=\"http://www.rdkit.org/xml\" xmlns:xlink=\"http://www.w3.org/1999/xlink\">\n",
       "<!-- END OF HEADER -->\n",
       "<rect height=\"150\" style=\"opacity:1.0;fill:#FFFFFF;stroke:none\" width=\"450\" x=\"0\" y=\"0\"> </rect>\n",
       "<path class=\"bond-0\" d=\"M 287.586,17.734 L 254.838,74.4542\" style=\"fill:none;fill-rule:evenodd;stroke:#000000;stroke-width:2px;stroke-linecap:butt;stroke-linejoin:miter;stroke-opacity:1\"/>\n",
       "<path class=\"bond-1\" d=\"M 254.838,74.4542 L 268.061,97.3564\" style=\"fill:none;fill-rule:evenodd;stroke:#000000;stroke-width:2px;stroke-linecap:butt;stroke-linejoin:miter;stroke-opacity:1\"/>\n",
       "<path class=\"bond-1\" d=\"M 268.061,97.3564 L 281.283,120.259\" style=\"fill:none;fill-rule:evenodd;stroke:#0000FF;stroke-width:2px;stroke-linecap:butt;stroke-linejoin:miter;stroke-opacity:1\"/>\n",
       "<path class=\"bond-2\" d=\"M 254.838,74.4542 L 189.343,74.4542\" style=\"fill:none;fill-rule:evenodd;stroke:#000000;stroke-width:2px;stroke-linecap:butt;stroke-linejoin:miter;stroke-opacity:1\"/>\n",
       "<path class=\"bond-3\" d=\"M 183.671,71.1795 L 170.449,94.0817\" style=\"fill:none;fill-rule:evenodd;stroke:#000000;stroke-width:2px;stroke-linecap:butt;stroke-linejoin:miter;stroke-opacity:1\"/>\n",
       "<path class=\"bond-3\" d=\"M 170.449,94.0817 L 157.226,116.984\" style=\"fill:none;fill-rule:evenodd;stroke:#FF0000;stroke-width:2px;stroke-linecap:butt;stroke-linejoin:miter;stroke-opacity:1\"/>\n",
       "<path class=\"bond-3\" d=\"M 195.015,77.729 L 181.793,100.631\" style=\"fill:none;fill-rule:evenodd;stroke:#000000;stroke-width:2px;stroke-linecap:butt;stroke-linejoin:miter;stroke-opacity:1\"/>\n",
       "<path class=\"bond-3\" d=\"M 181.793,100.631 L 168.57,123.533\" style=\"fill:none;fill-rule:evenodd;stroke:#FF0000;stroke-width:2px;stroke-linecap:butt;stroke-linejoin:miter;stroke-opacity:1\"/>\n",
       "<path class=\"bond-4\" d=\"M 189.343,74.4542 L 176.121,51.552\" style=\"fill:none;fill-rule:evenodd;stroke:#000000;stroke-width:2px;stroke-linecap:butt;stroke-linejoin:miter;stroke-opacity:1\"/>\n",
       "<path class=\"bond-4\" d=\"M 176.121,51.552 L 162.898,28.6498\" style=\"fill:none;fill-rule:evenodd;stroke:#FF0000;stroke-width:2px;stroke-linecap:butt;stroke-linejoin:miter;stroke-opacity:1\"/>\n",
       "<text dominant-baseline=\"central\" style=\"font-size:21px;font-style:normal;font-weight:normal;fill-opacity:1;stroke:none;font-family:sans-serif;fill:#0000FF\" text-anchor=\"start\" x=\"280.526\" y=\"134.777\"><tspan>NH</tspan><tspan style=\"baseline-shift:sub;font-size:15.75px;\">2</tspan><tspan/></text>\n",
       "<text dominant-baseline=\"central\" style=\"font-size:21px;font-style:normal;font-weight:normal;fill-opacity:1;stroke:none;font-family:sans-serif;fill:#FF0000\" text-anchor=\"end\" x=\"164.608\" y=\"134.449\"><tspan>O</tspan></text>\n",
       "<text dominant-baseline=\"central\" style=\"font-size:21px;font-style:normal;font-weight:normal;fill-opacity:1;stroke:none;font-family:sans-serif;fill:#FF0000\" text-anchor=\"end\" x=\"164.608\" y=\"21.0087\"><tspan>HO</tspan></text>\n",
       "</svg>"
      ],
      "text/plain": [
       "<IPython.core.display.SVG object>"
      ]
     },
     "metadata": {},
     "output_type": "display_data"
    }
   ],
   "source": [
    "from IPython.display import SVG\n",
    "from rdkit.Chem import rdDepictor as rdd\n",
    "from rdkit.Chem.Draw import rdMolDraw2D as draw2d\n",
    "\n",
    "def draw2D(m):\n",
    "    molSize = (450, 150)                    # draw area \n",
    "    mc = Chem.Mol(m.ToBinary())    \n",
    "    if not mc.GetNumConformers():\n",
    "        rdd.Compute2DCoords(mc)             # compute 2D coordinates of atoms\n",
    "    drawer = draw2d.MolDraw2DSVG(\\\n",
    "        molSize[0],molSize[1])              # initialize drawer with size\n",
    "    drawer.DrawMolecule(mc)                 # draw the molecule\n",
    "    drawer.FinishDrawing()\n",
    "    svg = drawer.GetDrawingText()           # get the SVG string \n",
    "    display(SVG(svg.replace('svg:','')))    # fix and display in Jupyter notebook\n",
    "    \n",
    "draw2D(mol)"
   ]
  },
  {
   "cell_type": "code",
   "execution_count": 10,
   "metadata": {},
   "outputs": [
    {
     "ename": "AttributeError",
     "evalue": "'SDMolSupplier' object has no attribute 'ToBinary'",
     "output_type": "error",
     "traceback": [
      "\u001b[1;31m---------------------------------------------------------------------------\u001b[0m",
      "\u001b[1;31mAttributeError\u001b[0m                            Traceback (most recent call last)",
      "\u001b[1;32m<ipython-input-10-0adad2595f78>\u001b[0m in \u001b[0;36m<module>\u001b[1;34m\u001b[0m\n\u001b[1;32m----> 1\u001b[1;33m \u001b[0mdraw2D\u001b[0m\u001b[1;33m(\u001b[0m\u001b[0msuppl\u001b[0m\u001b[1;33m)\u001b[0m\u001b[1;33m\u001b[0m\u001b[1;33m\u001b[0m\u001b[0m\n\u001b[0m",
      "\u001b[1;32m<ipython-input-6-54f0f9a4d150>\u001b[0m in \u001b[0;36mdraw2D\u001b[1;34m(m)\u001b[0m\n\u001b[0;32m      5\u001b[0m \u001b[1;32mdef\u001b[0m \u001b[0mdraw2D\u001b[0m\u001b[1;33m(\u001b[0m\u001b[0mm\u001b[0m\u001b[1;33m)\u001b[0m\u001b[1;33m:\u001b[0m\u001b[1;33m\u001b[0m\u001b[1;33m\u001b[0m\u001b[0m\n\u001b[0;32m      6\u001b[0m     \u001b[0mmolSize\u001b[0m \u001b[1;33m=\u001b[0m \u001b[1;33m(\u001b[0m\u001b[1;36m450\u001b[0m\u001b[1;33m,\u001b[0m \u001b[1;36m150\u001b[0m\u001b[1;33m)\u001b[0m                    \u001b[1;31m# draw area\u001b[0m\u001b[1;33m\u001b[0m\u001b[1;33m\u001b[0m\u001b[0m\n\u001b[1;32m----> 7\u001b[1;33m     \u001b[0mmc\u001b[0m \u001b[1;33m=\u001b[0m \u001b[0mChem\u001b[0m\u001b[1;33m.\u001b[0m\u001b[0mMol\u001b[0m\u001b[1;33m(\u001b[0m\u001b[0mm\u001b[0m\u001b[1;33m.\u001b[0m\u001b[0mToBinary\u001b[0m\u001b[1;33m(\u001b[0m\u001b[1;33m)\u001b[0m\u001b[1;33m)\u001b[0m\u001b[1;33m\u001b[0m\u001b[1;33m\u001b[0m\u001b[0m\n\u001b[0m\u001b[0;32m      8\u001b[0m     \u001b[1;32mif\u001b[0m \u001b[1;32mnot\u001b[0m \u001b[0mmc\u001b[0m\u001b[1;33m.\u001b[0m\u001b[0mGetNumConformers\u001b[0m\u001b[1;33m(\u001b[0m\u001b[1;33m)\u001b[0m\u001b[1;33m:\u001b[0m\u001b[1;33m\u001b[0m\u001b[1;33m\u001b[0m\u001b[0m\n\u001b[0;32m      9\u001b[0m         \u001b[0mrdd\u001b[0m\u001b[1;33m.\u001b[0m\u001b[0mCompute2DCoords\u001b[0m\u001b[1;33m(\u001b[0m\u001b[0mmc\u001b[0m\u001b[1;33m)\u001b[0m             \u001b[1;31m# compute 2D coordinates of atoms\u001b[0m\u001b[1;33m\u001b[0m\u001b[1;33m\u001b[0m\u001b[0m\n",
      "\u001b[1;31mAttributeError\u001b[0m: 'SDMolSupplier' object has no attribute 'ToBinary'"
     ]
    }
   ],
   "source": [
    "draw2D(suppl)"
   ]
  },
  {
   "cell_type": "markdown",
   "metadata": {},
   "source": [
    "# Substructures"
   ]
  },
  {
   "cell_type": "code",
   "execution_count": 11,
   "metadata": {},
   "outputs": [
    {
     "data": {
      "text/plain": [
       "True"
      ]
     },
     "execution_count": 11,
     "metadata": {},
     "output_type": "execute_result"
    }
   ],
   "source": [
    "mol = Chem.MolFromSmiles('CC(N)C(=O)O')\n",
    "\n",
    "# load a substructure from a SMILES string\n",
    "pattern = Chem.MolFromSmiles('CCO')\n",
    "\n",
    "# perform substructure match on mol\n",
    "mol.HasSubstructMatch(pattern)    # returns true"
   ]
  },
  {
   "cell_type": "markdown",
   "metadata": {},
   "source": [
    "# Similarity Search"
   ]
  },
  {
   "cell_type": "code",
   "execution_count": 4,
   "metadata": {},
   "outputs": [],
   "source": [
    "def tanimoto_similarity(ms, idx):\n",
    "    # convert Mol to datastructure type using a list comprehension\n",
    "    fps = [FingerprintMol(i) for i in ms]\n",
    "    \n",
    "    # set a query molecule: can be changed \n",
    "    query = fps[idx]\n",
    "    \n",
    "    # declare new list for similarities\n",
    "    lst= []\n",
    "    \n",
    "    # loop through to find Tanimoto similarity\n",
    "    for i in range(len(fps)):\n",
    "        # tuple: (idx, similarity)\n",
    "        lst.append((i, DataStructs.FingerprintSimilarity(query, fps[i])))\n",
    "    \n",
    "    # sort sim using the similarities\n",
    "    lst.sort(key=lambda x:x[1], reverse=True)\n",
    "    \n",
    "    return lst"
   ]
  },
  {
   "cell_type": "code",
   "execution_count": null,
   "metadata": {},
   "outputs": [],
   "source": []
  }
 ],
 "metadata": {
  "kernelspec": {
   "display_name": "Python 3",
   "language": "python",
   "name": "python3"
  },
  "language_info": {
   "codemirror_mode": {
    "name": "ipython",
    "version": 3
   },
   "file_extension": ".py",
   "mimetype": "text/x-python",
   "name": "python",
   "nbconvert_exporter": "python",
   "pygments_lexer": "ipython3",
   "version": "3.7.6"
  }
 },
 "nbformat": 4,
 "nbformat_minor": 4
}
